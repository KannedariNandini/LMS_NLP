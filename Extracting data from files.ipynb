{
 "cells": [
  {
   "cell_type": "code",
   "execution_count": 1,
   "id": "18e922d3",
   "metadata": {},
   "outputs": [
    {
     "name": "stdout",
     "output_type": "stream",
     "text": [
      "Collecting python_docx\n",
      "  Downloading python_docx-1.1.2-py3-none-any.whl (244 kB)\n",
      "     -------------------------------------- 244.3/244.3 kB 1.2 MB/s eta 0:00:00\n",
      "Requirement already satisfied: typing-extensions>=4.9.0 in c:\\users\\kannedari nandini\\anaconda3\\lib\\site-packages (from python_docx) (4.12.2)\n",
      "Requirement already satisfied: lxml>=3.1.0 in c:\\users\\kannedari nandini\\anaconda3\\lib\\site-packages (from python_docx) (4.9.1)\n",
      "Installing collected packages: python_docx\n",
      "Successfully installed python_docx-1.1.2\n"
     ]
    }
   ],
   "source": [
    "!pip install python_docx"
   ]
  },
  {
   "cell_type": "code",
   "execution_count": 2,
   "id": "de25f680",
   "metadata": {},
   "outputs": [],
   "source": [
    "import docx"
   ]
  },
  {
   "cell_type": "code",
   "execution_count": 7,
   "id": "e0e8a7cd",
   "metadata": {},
   "outputs": [],
   "source": [
    "doc=open(\"literature survey 3.docx\",\"rb\")\n",
    "document=docx.Document(doc)"
   ]
  },
  {
   "cell_type": "code",
   "execution_count": 8,
   "id": "75e805ef",
   "metadata": {},
   "outputs": [
    {
     "name": "stdout",
     "output_type": "stream",
     "text": [
      "Title: Quantum-Enhanced Semantic Analysis for Auto-Generated Text Section & Batch: Gamma GT-11LITERATURE SURVEYTitle: Quantum-Assisted Contextual Language UnderstandingAuthors:A. Sharma, P. Roy, S. Mehta, T. DeshmukhYear: 2023Problem Focused: Explores the integration of quantum computing to improve contextual understanding in auto-generated text.Algorithm used: Implements quantum-enhanced transformers for better semantic alignment in natural language models.Future Enhancement:Proposes leveraging quantum error correction to improve model robustness.Source: ElsevierThis paper explores the application of Quantum Natural Language Processing (QNLP) to enhance the semantic analysis of automatically generated sentences. It discusses how quantum computing can help decode the structure and context of these sentences more efficiently than classical methods, making it particularly useful for NLP tasks like sentiment analysis, text summarization, and translation.Title: Hybrid Quantum Models for Text SummarizationAuthors:L. Chen, Y. Singh, D. PatelYear: 2022Problem Focused: Investigates the role of hybrid quantum-classical approaches in generating concise text summaries..Algorithm: Employs quantum circuit-based dimensionality reduction techniques for efficient summarization.Future Enhancement: plans to expand applications to cross-lingual summarization tasks.Source: IEEE XploreThis survey paper provides a detailed overview of the intersection between quantum computing and NLP, illustrating how quantum models can improve tasks such as text-to-image generation, text-to- scene, and text-to-video generation. It explores how quantum algorithms are applied to enhance NLP’s capabilities and discusses the potential for quantum computing to revolutionize language understanding.Title:Sentiment Analysis Using Quantum Neural Networks Author: R. Gupta, M. Verma, K. DasYear: 2024Problem Focused:Develops quantum-inspired neural networks for enhanced sentiment analysis of customer reviews.Algorithm:Introduces entanglement-based word embeddings for sentiment detection.Future Enhancement:Focuses on scaling these techniques for multilinguial datasetsSource:SpringerThis paper focuses on the challenges and opportunities presented by applying quantum computing to NLP. It addresses the difficulty of encoding linguistic information and how quantum models could surpass the limitations of classical neural language models. The study highlights potential areas for improvement and growth.Title: Quantum NLP: A New Frontier in Language ModelingAuthor:T. Nakamura, H. Kim, J. Lee Year: 2021Problem Focused:Studies the advantages of quantum computing in enhancing language modeling capabilities.Algorithm:Applies quantum tensor networks to capture complex dependencies in sentences.Future Enhancement: Envisions the integration of quantum memory for handling large corpora.Source: NatureIn this paper, the integration of quantum physics principles into NLP is reviewed, aiming to enhance language processing capabilities. The authors explore various quantum algorithms and their applications, particularly in semantic analysis and information retrieval tasks, with an emphasis on how quantum models can outperform classical NLP systems.Title:Quantam cognitive models for text classification Authors: N. Bhatia, S. Kapoor, V. AnandYear: 2023Problem Focused:Focuses on quantum-cognitive approaches for classifying auto-generated text into predefined categories.Algorithm: Uses quantum superposition states to represent overlapping categories efficiently.Future Enhancement: Targets real-time classification systems for dynamic text dataSource: ACM Digital LibraryThis paper provides an overview of how quantum computing can be applied to NLP tasks. It delves into the intersection between quantum models and language processing, focusing on areas like text-to-image generation, scene generation, and video generation. The study emphasizes the potential benefits of using quantum algorithms for various NLP applications, particularly in improving efficiency and scalability.\n"
     ]
    }
   ],
   "source": [
    "docu=\"\"\n",
    "for para in document.paragraphs:\n",
    "    docu += para.text\n",
    "print(docu)"
   ]
  },
  {
   "cell_type": "code",
   "execution_count": 9,
   "id": "e7f20860",
   "metadata": {},
   "outputs": [
    {
     "name": "stdout",
     "output_type": "stream",
     "text": [
      "The content of the paragraph 0 is : \n",
      "\n",
      "The content of the paragraph 1 is : \n",
      "\n",
      "The content of the paragraph 2 is : \n",
      "\n",
      "The content of the paragraph 3 is : Title: Quantum-Enhanced Semantic Analysis for Auto-Generated Text Section & Batch: Gamma GT-11\n",
      "\n",
      "The content of the paragraph 4 is : \n",
      "\n",
      "The content of the paragraph 5 is : LITERATURE SURVEY\n",
      "\n",
      "The content of the paragraph 6 is : \n",
      "\n",
      "The content of the paragraph 7 is : \n",
      "\n",
      "The content of the paragraph 8 is : Title: Quantum-Assisted Contextual Language Understanding\n",
      "\n",
      "The content of the paragraph 9 is : Authors:A. Sharma, P. Roy, S. Mehta, T. Deshmukh\n",
      "\n",
      "The content of the paragraph 10 is : Year: 2023\n",
      "\n",
      "The content of the paragraph 11 is : Problem Focused: Explores the integration of quantum computing to improve contextual understanding in auto-generated text.\n",
      "\n",
      "The content of the paragraph 12 is : Algorithm used: Implements quantum-enhanced transformers for better semantic alignment in natural language models.\n",
      "\n",
      "The content of the paragraph 13 is : Future Enhancement:Proposes leveraging quantum error correction to improve model robustness.\n",
      "\n",
      "The content of the paragraph 14 is : Source: Elsevier\n",
      "\n",
      "The content of the paragraph 15 is : This paper explores the application of Quantum Natural Language Processing (QNLP) to enhance the semantic analysis of automatically generated sentences. It discusses how quantum computing can help decode the structure and context of these sentences more efficiently than classical methods, making it particularly useful for NLP tasks like sentiment analysis, text summarization, and translation.\n",
      "\n",
      "The content of the paragraph 16 is : \n",
      "\n",
      "The content of the paragraph 17 is : \n",
      "\n",
      "The content of the paragraph 18 is : Title: Hybrid Quantum Models for Text Summarization\n",
      "\n",
      "The content of the paragraph 19 is : Authors:L. Chen, Y. Singh, D. Patel\n",
      "\n",
      "The content of the paragraph 20 is : Year: 2022\n",
      "\n",
      "The content of the paragraph 21 is : Problem Focused: Investigates the role of hybrid quantum-classical approaches in generating concise text summaries..\n",
      "\n",
      "The content of the paragraph 22 is : Algorithm: Employs quantum circuit-based dimensionality reduction techniques for efficient summarization.\n",
      "\n",
      "The content of the paragraph 23 is : Future Enhancement: plans to expand applications to cross-lingual summarization tasks.\n",
      "\n",
      "The content of the paragraph 24 is : Source: IEEE Xplore\n",
      "\n",
      "The content of the paragraph 25 is : \n",
      "\n",
      "The content of the paragraph 26 is : This survey paper provides a detailed overview of the intersection between quantum computing and NLP, illustrating how quantum models can improve tasks such as text-to-image generation, text-to- scene, and text-to-video generation. It explores how quantum algorithms are applied to enhance NLP’s capabilities and discusses the potential for quantum computing to revolutionize language understanding.\n",
      "\n",
      "The content of the paragraph 27 is : \n",
      "\n",
      "The content of the paragraph 28 is : \n",
      "\n",
      "The content of the paragraph 29 is : Title:Sentiment Analysis Using Quantum Neural Networks Author: R. Gupta, M. Verma, K. Das\n",
      "\n",
      "The content of the paragraph 30 is : Year: 2024\n",
      "\n",
      "The content of the paragraph 31 is : Problem Focused:Develops quantum-inspired neural networks for enhanced sentiment analysis of customer reviews.\n",
      "\n",
      "The content of the paragraph 32 is : Algorithm:Introduces entanglement-based word embeddings for sentiment detection.\n",
      "\n",
      "The content of the paragraph 33 is : Future Enhancement:Focuses on scaling these techniques for multilinguial datasets\n",
      "\n",
      "The content of the paragraph 34 is : Source:Springer\n",
      "\n",
      "The content of the paragraph 35 is : This paper focuses on the challenges and opportunities presented by applying quantum computing to NLP. It addresses the difficulty of encoding linguistic information and how quantum models could surpass the limitations of classical neural language models. The study highlights potential areas for improvement and growth.\n",
      "\n",
      "The content of the paragraph 36 is : \n",
      "\n",
      "The content of the paragraph 37 is : \n",
      "\n",
      "The content of the paragraph 38 is : Title: Quantum NLP: A New Frontier in Language Modeling\n",
      "\n",
      "The content of the paragraph 39 is : Author:T. Nakamura, H. Kim, J. Lee Year: 2021\n",
      "\n",
      "The content of the paragraph 40 is : Problem Focused:Studies the advantages of quantum computing in enhancing language modeling capabilities.\n",
      "\n",
      "The content of the paragraph 41 is : Algorithm:Applies quantum tensor networks to capture complex dependencies in sentences.\n",
      "\n",
      "The content of the paragraph 42 is : Future Enhancement: Envisions the integration of quantum memory for handling large corpora.\n",
      "\n",
      "The content of the paragraph 43 is : Source: Nature\n",
      "\n",
      "The content of the paragraph 44 is : In this paper, the integration of quantum physics principles into NLP is reviewed, aiming to enhance language processing capabilities. The authors explore various quantum algorithms and their applications, particularly in semantic analysis and information retrieval tasks, with an emphasis on how quantum models can outperform classical NLP systems.\n",
      "\n",
      "The content of the paragraph 45 is : \n",
      "\n",
      "The content of the paragraph 46 is : Title:Quantam cognitive models for text classification Authors: N. Bhatia, S. Kapoor, V. Anand\n",
      "\n",
      "The content of the paragraph 47 is : Year: 2023\n",
      "\n",
      "The content of the paragraph 48 is : Problem Focused:Focuses on quantum-cognitive approaches for classifying auto-generated text into predefined categories.\n",
      "\n",
      "The content of the paragraph 49 is : Algorithm: Uses quantum superposition states to represent overlapping categories efficiently.\n",
      "\n",
      "The content of the paragraph 50 is : Future Enhancement: Targets real-time classification systems for dynamic text data\n",
      "\n",
      "The content of the paragraph 51 is : Source: ACM Digital Library\n",
      "\n",
      "The content of the paragraph 52 is : This paper provides an overview of how quantum computing can be applied to NLP tasks. It delves into the intersection between quantum models and language processing, focusing on areas like text-to-image generation, scene generation, and video generation. The study emphasizes the potential benefits of using quantum algorithms for various NLP applications, particularly in improving efficiency and scalability.\n",
      "\n"
     ]
    }
   ],
   "source": [
    "for i in range(len(document.paragraphs)):\n",
    "    print(\"The content of the paragraph \"+ str(i)+\" is : \" + document.paragraphs[i].text+'\\n')"
   ]
  },
  {
   "cell_type": "code",
   "execution_count": 10,
   "id": "b4e2e3ca",
   "metadata": {},
   "outputs": [
    {
     "name": "stdout",
     "output_type": "stream",
     "text": [
      "Collecting bs4\n",
      "  Downloading bs4-0.0.2-py2.py3-none-any.whl (1.2 kB)\n",
      "Requirement already satisfied: beautifulsoup4 in c:\\users\\kannedari nandini\\anaconda3\\lib\\site-packages (from bs4) (4.11.1)\n",
      "Requirement already satisfied: soupsieve>1.2 in c:\\users\\kannedari nandini\\anaconda3\\lib\\site-packages (from beautifulsoup4->bs4) (2.3.1)\n",
      "Installing collected packages: bs4\n",
      "Successfully installed bs4-0.0.2\n"
     ]
    }
   ],
   "source": [
    "!pip install bs4"
   ]
  },
  {
   "cell_type": "code",
   "execution_count": 11,
   "id": "9fae5a0e",
   "metadata": {},
   "outputs": [],
   "source": [
    "import urllib.request as urllib2\n",
    "from bs4 import BeautifulSoup"
   ]
  },
  {
   "cell_type": "code",
   "execution_count": 12,
   "id": "5cf7c7a0",
   "metadata": {},
   "outputs": [],
   "source": [
    "response = urllib2.urlopen('https://en.wikipedia.org/wiki/Natural_language_processing')\n",
    "html_doc = response.read()"
   ]
  },
  {
   "cell_type": "code",
   "execution_count": 13,
   "id": "e03d6565",
   "metadata": {},
   "outputs": [
    {
     "name": "stdout",
     "output_type": "stream",
     "text": [
      "<!DOCTYPE html>\n",
      "<html class=\"client-nojs vector-feature-language-in-header-enabled vector-feature-language-in-main-page-header-disabled vector-feature-page-tools-pinned-disabled vector-feature-toc-pinned-clientpref-1 vector-feature-main-menu-pinned-disabled vector-feature-limited-width-clientpref-1 vector-feature-limited-width-content-enabled vector-feature-custom-font-size-clientpref-1 vector-feature-appearance-pinned-clientpref-1 vector-feature-night-mode-enabled skin-theme-clientpref-day vector-sticky-header-enabled vector-toc-available\" dir=\"ltr\" lang=\"en\">\n",
      " <head>\n",
      "  <meta charset=\"utf-8\"/>\n",
      "  <title>\n",
      "   Natural language processing - Wikipedia\n",
      "  </title>\n",
      "  <script>\n",
      "   (function(){var className=\"client-js vector-feature-language-in-header-enabled vector-feature-language-in-main-page-header-disabled vector-feature-page-tools-pinned-disabled vector-feature-toc-pinned-clientpref-1 vector-feature-main-menu-pinned-disabled vector-feature-limited-width-clientpref-1 vector-feature-limited-width-content-enabled vector-feature-custom-font-size-clientpref-1 vector-feature-appearance-pinned-clientpref-1 vector-feature-night-mode-enabled skin-theme-clientpref-day vector-sticky-header-enabled vector-toc-available\";var cookie=document.cookie.match(/(?:^|; )enwikimwclientpreferences=([^;]+)/);if(cookie){cookie[1].split('%2C').forEach(function(pref){className=className.replace(new RegExp('(^| )'+pref.replace(/-clientpref-\\w+$|[^\\w-]+/g,'')+'-clientpref-\\\\w+( |$)'),'$1'+pref+'$2');});}document.documentElement.className=className;}());RLCONF={\"wgBreakFrames\":false,\"wgSeparatorTransformTable\":[\"\",\"\"],\"wgDigitTransformTable\":[\"\",\"\"],\"wgDefaultDateFormat\":\"dmy\",\n",
      "\"wgMonthNames\":[\"\",\"January\",\"February\",\"March\",\"April\",\"May\",\"June\",\"July\",\"August\",\"September\",\"October\",\"November\",\"December\"],\"wgRequestId\":\"bb8cccbb-931f-4281-aaf8-3aff8c9effb8\",\"wgCanonicalNamespace\":\"\",\"wgCanonicalSpecialPageName\":false,\"wgNamespaceNumber\":0,\"wgPageName\":\"Natural_language_processing\",\"wgTitle\":\"Natural language processing\",\"wgCurRevisionId\":1274942014,\"wgRevisionId\":1274942014,\"wgArticleId\":21652,\"wgIsArticle\":true,\"wgIsRedirect\":false,\"wgAction\":\"view\",\"wgUserName\":null,\"wgUserGroups\":[\"*\"],\"wgCategories\":[\"All accuracy disputes\",\"Accuracy disputes from December 2013\",\"Harv and Sfn no-target errors\",\"CS1 errors: periodical ignored\",\"CS1 maint: location\",\"Articles with short description\",\"Short description is different from Wikidata\",\"Articles needing additional references from May 2024\",\"All articles needing additional references\",\"All articles with unsourced statements\",\"Articles with unsourced statements from May 2024\",\"Commons category link from Wikidata\",\n",
      "\"Natural language processing\",\"Computational fields of study\",\"Computational linguistics\",\"Speech recognition\"],\"wgPageViewLanguage\":\"en\",\"wgPageContentLanguage\":\"en\",\"wgPageContentModel\":\"wikitext\",\"wgRelevantPageName\":\"Natural_language_processing\",\"wgRelevantArticleId\":21652,\"wgIsProbablyEditable\":true,\"wgRelevantPageIsProbablyEditable\":true,\"wgRestrictionEdit\":[],\"wgRestrictionMove\":[],\"wgNoticeProject\":\"wikipedia\",\"wgCiteReferencePreviewsActive\":false,\"wgFlaggedRevsParams\":{\"tags\":{\"status\":{\"levels\":1}}},\"wgMediaViewerOnClick\":true,\"wgMediaViewerEnabledByDefault\":true,\"wgPopupsFlags\":0,\"wgVisualEditor\":{\"pageLanguageCode\":\"en\",\"pageLanguageDir\":\"ltr\",\"pageVariantFallbacks\":\"en\"},\"wgMFDisplayWikibaseDescriptions\":{\"search\":true,\"watchlist\":true,\"tagline\":false,\"nearby\":true},\"wgWMESchemaEditAttemptStepOversample\":false,\"wgWMEPageLength\":60000,\"wgEditSubmitButtonLabelPublish\":true,\"wgULSPosition\":\"interlanguage\",\"wgULSisCompactLinksEnabled\":false,\"wgVector2022LanguageInHeader\":true,\n",
      "\"wgULSisLanguageSelectorEmpty\":false,\"wgWikibaseItemId\":\"Q30642\",\"wgCheckUserClientHintsHeadersJsApi\":[\"brands\",\"architecture\",\"bitness\",\"fullVersionList\",\"mobile\",\"model\",\"platform\",\"platformVersion\"],\"GEHomepageSuggestedEditsEnableTopics\":true,\"wgGETopicsMatchModeEnabled\":false,\"wgGEStructuredTaskRejectionReasonTextInputEnabled\":false,\"wgGELevelingUpEnabledForUser\":false};RLSTATE={\"ext.globalCssJs.user.styles\":\"ready\",\"site.styles\":\"ready\",\"user.styles\":\"ready\",\"ext.globalCssJs.user\":\"ready\",\"user\":\"ready\",\"user.options\":\"loading\",\"ext.cite.styles\":\"ready\",\"ext.math.styles\":\"ready\",\"skins.vector.search.codex.styles\":\"ready\",\"skins.vector.styles\":\"ready\",\"skins.vector.icons\":\"ready\",\"jquery.makeCollapsible.styles\":\"ready\",\"ext.wikimediamessages.styles\":\"ready\",\"ext.visualEditor.desktopArticleTarget.noscript\":\"ready\",\"ext.uls.interlanguage\":\"ready\",\"wikibase.client.init\":\"ready\",\"ext.wikimediaBadges\":\"ready\"};RLPAGEMODULES=[\"ext.cite.ux-enhancements\",\"ext.scribunto.logs\",\"site\",\n",
      "\"mediawiki.page.ready\",\"jquery.makeCollapsible\",\"mediawiki.toc\",\"skins.vector.js\",\"ext.centralNotice.geoIP\",\"ext.centralNotice.startUp\",\"ext.gadget.ReferenceTooltips\",\"ext.gadget.switcher\",\"ext.urlShortener.toolbar\",\"ext.centralauth.centralautologin\",\"mmv.bootstrap\",\"ext.popups\",\"ext.visualEditor.desktopArticleTarget.init\",\"ext.visu\n"
     ]
    }
   ],
   "source": [
    "soup = BeautifulSoup(html_doc,'html.parser')\n",
    "strhtm = soup.prettify()\n",
    "print(strhtm[:5000])"
   ]
  },
  {
   "cell_type": "code",
   "execution_count": null,
   "id": "baddf689",
   "metadata": {},
   "outputs": [],
   "source": []
  }
 ],
 "metadata": {
  "kernelspec": {
   "display_name": "Python 3 (ipykernel)",
   "language": "python",
   "name": "python3"
  },
  "language_info": {
   "codemirror_mode": {
    "name": "ipython",
    "version": 3
   },
   "file_extension": ".py",
   "mimetype": "text/x-python",
   "name": "python",
   "nbconvert_exporter": "python",
   "pygments_lexer": "ipython3",
   "version": "3.9.13"
  }
 },
 "nbformat": 4,
 "nbformat_minor": 5
}
