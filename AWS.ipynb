{
 "cells": [
  {
   "cell_type": "code",
   "execution_count": null,
   "id": "0d0e09d1",
   "metadata": {},
   "outputs": [],
   "source": [
    "import boto3\n",
    "\n",
    "# Create an S3 client\n",
    "\n",
    "s3 = boto3.client(\"s3\")"
   ]
  },
  {
   "cell_type": "code",
   "execution_count": null,
   "id": "28d5791a",
   "metadata": {},
   "outputs": [],
   "source": [
    "bucket_name = \"mynlpmru5\"\n",
    "\n",
    "s3.create_bucket(\n",
    "\n",
    "    Bucket=bucket_name,\n",
    "\n",
    "    CreateBucketConfiguration={\"LocationConstraint\": \"eu-north-1\"}\n",
    "\n",
    ")\n",
    "\n",
    "print(f\"Bucket '{bucket_name}' created successfully!\")"
   ]
  },
  {
   "cell_type": "code",
   "execution_count": null,
   "id": "0b3a0bc1",
   "metadata": {},
   "outputs": [],
   "source": [
    "response = s3.list_buckets()\n",
    "\n",
    " \n",
    "\n",
    "print(\"Existing Buckets:\")\n",
    "\n",
    "for bucket in response[\"Buckets\"]:\n",
    "\n",
    "    print(f\"- {bucket['Name']}\")"
   ]
  },
  {
   "cell_type": "code",
   "execution_count": null,
   "id": "d3a547d8",
   "metadata": {},
   "outputs": [],
   "source": [
    "# Upload a file\n",
    "\n",
    "s3.upload_file(\"test.txt\", \"mynlpmru\", \"data/testfile1.txt\")\n",
    "\n",
    " \n",
    "\n",
    "print(\"Upload complete!\")"
   ]
  },
  {
   "cell_type": "code",
   "execution_count": null,
   "id": "9124b327",
   "metadata": {},
   "outputs": [],
   "source": [
    "# Upload a file\n",
    "\n",
    "s3.upload_file(\"test.txt\", \"mynlpmru\", \"data/testfile1.txt\")\n",
    "\n",
    " \n",
    "\n",
    "print(\"Upload complete!\")"
   ]
  },
  {
   "cell_type": "code",
   "execution_count": null,
   "id": "18eadab5",
   "metadata": {},
   "outputs": [],
   "source": [
    "s3.download_file(\"mynlpmru\", \"data/testfile1.txt\", \"downloaded_test2.txt\")\n",
    "\n",
    "print(\"Download successful!\")"
   ]
  },
  {
   "cell_type": "code",
   "execution_count": null,
   "id": "90a99d0a",
   "metadata": {},
   "outputs": [],
   "source": [
    "response = s3.list_objects_v2(Bucket=\"mynlpmru\")\n",
    "\n",
    " \n",
    "\n",
    "print(\"Files in bucket:\")\n",
    "\n",
    "if \"Contents\" in response:\n",
    "\n",
    "    for obj in response[\"Contents\"]:\n",
    "\n",
    "        print(f\"- {obj['Key']} (Size: {obj['Size']} bytes)\")\n",
    "\n",
    "else:\n",
    "\n",
    "    print(\"Bucket is empty.\")"
   ]
  },
  {
   "cell_type": "code",
   "execution_count": null,
   "id": "cd1233ee",
   "metadata": {},
   "outputs": [],
   "source": [
    "s3.delete_object(Bucket=\"mynlpmru\", Key=\"data/testfile1.txt\")\n",
    "\n",
    "print(\"File deleted successfully!\")"
   ]
  },
  {
   "cell_type": "code",
   "execution_count": null,
   "id": "aa1acaef",
   "metadata": {},
   "outputs": [],
   "source": [
    "s3.put_bucket_versioning(\n",
    "\n",
    "    Bucket=\"mynlpmru\",\n",
    "\n",
    "    VersioningConfiguration={\"Status\": \"Enabled\"}\n",
    "\n",
    ")\n",
    "\n",
    "print(\"Bucket versioning enabled.\")"
   ]
  }
 ],
 "metadata": {
  "kernelspec": {
   "display_name": "Python 3 (ipykernel)",
   "language": "python",
   "name": "python3"
  },
  "language_info": {
   "codemirror_mode": {
    "name": "ipython",
    "version": 3
   },
   "file_extension": ".py",
   "mimetype": "text/x-python",
   "name": "python",
   "nbconvert_exporter": "python",
   "pygments_lexer": "ipython3",
   "version": "3.9.13"
  }
 },
 "nbformat": 4,
 "nbformat_minor": 5
}
