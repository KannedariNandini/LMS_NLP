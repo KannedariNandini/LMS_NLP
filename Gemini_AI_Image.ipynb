{
  "nbformat": 4,
  "nbformat_minor": 0,
  "metadata": {
    "colab": {
      "provenance": []
    },
    "kernelspec": {
      "name": "python3",
      "display_name": "Python 3"
    },
    "language_info": {
      "name": "python"
    }
  },
  "cells": [
    {
      "cell_type": "code",
      "execution_count": 2,
      "metadata": {
        "id": "ugXWFj1EXwGE"
      },
      "outputs": [],
      "source": [
        "import google.generativeai as genai\n",
        "from google.colab import userdata\n",
        "GOOGLE_API_KEY=userdata.get('GOOGLE_API_KEY')\n",
        "genai.configure(api_key=GOOGLE_API_KEY)"
      ]
    },
    {
      "cell_type": "code",
      "source": [
        "from google import genai\n",
        "from google.genai import types\n",
        "\n",
        "client=genai.Client(api_key=GOOGLE_API_KEY)"
      ],
      "metadata": {
        "id": "auZ3GecFZzjP"
      },
      "execution_count": 4,
      "outputs": []
    },
    {
      "cell_type": "code",
      "source": [
        "client=genai.Client(api_key=GOOGLE_API_KEY)"
      ],
      "metadata": {
        "id": "foYAak43ZHaS"
      },
      "execution_count": 5,
      "outputs": []
    },
    {
      "cell_type": "code",
      "source": [
        "import pathlib\n",
        "import textwrap\n",
        "from IPython.display import display, Markdown\n",
        "\n",
        "def to_markdown(text):\n",
        "  text=text.replace('.',' *')\n",
        "  return Markdown(textwrap.indent(text, '> ',predicate=lambda _: True))"
      ],
      "metadata": {
        "id": "MI8-ygq3Y5-8"
      },
      "execution_count": 7,
      "outputs": []
    },
    {
      "source": [
        "import google.generativeai as genai # Make sure to use google.generativeai for GenerativeModel\n",
        "from google.colab import userdata\n",
        "\n",
        "GOOGLE_API_KEY = userdata.get('GOOGLE_API_KEY')\n",
        "genai.configure(api_key=GOOGLE_API_KEY)\n",
        "\n",
        "import PIL.Image\n",
        "\n",
        "img = PIL.Image.open('lunchbox.jpg')\n",
        "img\n",
        "\n",
        "# Now, 'genai' refers to google.generativeai, which has GenerativeModel\n",
        "model = genai.GenerativeModel('gemini-1.5-flash')\n",
        "response = model.generate_content(\n",
        "    [\"Write a short blog based on the picture. It should include a description of the meal in the photo and talk about my journey meal prepping.\", img],\n",
        "    stream=True\n",
        ")\n",
        "response.resolve()"
      ],
      "cell_type": "code",
      "metadata": {
        "id": "10hoqqEdcKgW"
      },
      "execution_count": 10,
      "outputs": []
    },
    {
      "cell_type": "code",
      "source": [
        "to_markdown(response.text)"
      ],
      "metadata": {
        "colab": {
          "base_uri": "https://localhost:8080/",
          "height": 504
        },
        "id": "s7k1TtFQcvuH",
        "outputId": "0d17e8e1-904c-4050-c668-1f984e52242a"
      },
      "execution_count": 11,
      "outputs": [
        {
          "output_type": "execute_result",
          "data": {
            "text/plain": [
              "<IPython.core.display.Markdown object>"
            ],
            "text/markdown": "> ## My Meal Prep Journey: From Chaos to Deliciousness!\n> \n> Hello everyone!  Today I want to share my exciting (and slightly embarrassing) journey into the world of meal prepping * For years, I lived on takeout and whatever random thing I could throw together at the last minute *  Let's just say, my diet was less \"balanced\" and more \"chaotic *\"\n> \n> But enough was enough! I knew I needed to take control of my nutrition, and meal prepping seemed like the obvious solution *  The picture above shows the delicious fruits (or should I say, *vegetables*?) of my labor – two containers of deliciousness ready to conquer my week!\n> \n> Each container is packed with fluffy white rice as a base *  On top sits a flavorful medley of stir-fried chicken, vibrant red and orange bell peppers, and tender broccoli florets * It's a perfect balance of protein, carbs, and veggies *  The flavors are subtly sweet and savory, and honestly, it's way tastier (and healthier!) than anything I could grab from a drive-thru *\n> \n> My meal prep journey hasn't been without its hiccups *  My first attempts were * * *well, let's just say they weren't pretty *  There was the time I accidentally made enough food for a small army, and the time I completely forgot to defrost the chicken * But I've learned a lot along the way *  I've discovered the magic of prepping ingredients on the weekend, the importance of portion control, and the sheer satisfaction of knowing I have healthy, delicious meals waiting for me throughout the week *\n> \n> This isn't just about convenience; it's about making healthier choices easier *  It’s about having more energy and feeling better overall * It’s a journey, and I’m so glad I started *  What about you?  Have you tried meal prepping?  Share your tips and experiences in the comments below!\n"
          },
          "metadata": {},
          "execution_count": 11
        }
      ]
    },
    {
      "cell_type": "code",
      "source": [
        "resposne=model.generate_content([\"Generate an accurate caption for this image.\",img])\n",
        "print(response.text)"
      ],
      "metadata": {
        "colab": {
          "base_uri": "https://localhost:8080/",
          "height": 245
        },
        "id": "HLq_btYaeB96",
        "outputId": "fd4028cd-b39d-43fb-9f87-c29a4b78437f"
      },
      "execution_count": 12,
      "outputs": [
        {
          "output_type": "stream",
          "name": "stdout",
          "text": [
            "## My Meal Prep Journey: From Chaos to Deliciousness!\n",
            "\n",
            "Hello everyone!  Today I want to share my exciting (and slightly embarrassing) journey into the world of meal prepping. For years, I lived on takeout and whatever random thing I could throw together at the last minute.  Let's just say, my diet was less \"balanced\" and more \"chaotic.\"\n",
            "\n",
            "But enough was enough! I knew I needed to take control of my nutrition, and meal prepping seemed like the obvious solution.  The picture above shows the delicious fruits (or should I say, *vegetables*?) of my labor – two containers of deliciousness ready to conquer my week!\n",
            "\n",
            "Each container is packed with fluffy white rice as a base.  On top sits a flavorful medley of stir-fried chicken, vibrant red and orange bell peppers, and tender broccoli florets. It's a perfect balance of protein, carbs, and veggies.  The flavors are subtly sweet and savory, and honestly, it's way tastier (and healthier!) than anything I could grab from a drive-thru.\n",
            "\n",
            "My meal prep journey hasn't been without its hiccups.  My first attempts were...well, let's just say they weren't pretty.  There was the time I accidentally made enough food for a small army, and the time I completely forgot to defrost the chicken. But I've learned a lot along the way.  I've discovered the magic of prepping ingredients on the weekend, the importance of portion control, and the sheer satisfaction of knowing I have healthy, delicious meals waiting for me throughout the week.\n",
            "\n",
            "This isn't just about convenience; it's about making healthier choices easier.  It’s about having more energy and feeling better overall. It’s a journey, and I’m so glad I started.  What about you?  Have you tried meal prepping?  Share your tips and experiences in the comments below!\n",
            "\n"
          ]
        }
      ]
    },
    {
      "cell_type": "code",
      "source": [
        "from PIL import Image\n",
        "image_path=\"girl.jpg\"\n",
        "image=Image.open(image_path)\n",
        "response=model.generate_content([\"Describe this image in detail.\",image])\n",
        "print(response.text)"
      ],
      "metadata": {
        "colab": {
          "base_uri": "https://localhost:8080/",
          "height": 297
        },
        "id": "ekf__utQe0nH",
        "outputId": "81947c4c-fca6-4e86-ebc0-891d840e7e94"
      },
      "execution_count": 13,
      "outputs": [
        {
          "output_type": "stream",
          "name": "stdout",
          "text": [
            "Here's a description of the image:\n",
            "\n",
            "Close-up view of a woman with shoulder-length, curly brown hair. \n",
            "\n",
            "\n",
            "Here's a breakdown of the details:\n",
            "\n",
            "* **The Woman:** She appears to be of South Asian descent, with dark brown eyes and a warm smile. Her expression is friendly and engaging, as she's pointing with her index finger towards something off-camera. She looks directly at the camera.\n",
            "\n",
            "* **Her Clothing:** She's wearing a teal or turquoise three-quarter sleeve kurta (a traditional South Asian tunic). The kurta has a subtle, light gold print of small, repeating floral or paisley-like designs all over it. The neckline is a simple, modest V-neck style, fastened with a small button.\n",
            "\n",
            "* **The Setting:** The background is a plain, bright white, which keeps the focus entirely on the woman.\n",
            "\n",
            "* **Overall Impression:** The image is well-lit, professional, and conveys a feeling of approachability and perhaps showcasing a product or service (given the pointing gesture). The overall style is clean and simple.\n",
            "\n"
          ]
        }
      ]
    },
    {
      "cell_type": "code",
      "source": [
        "resposne=model.generate_content([\"What emotions can you detect in this image\",img])\n",
        "print(response.text)"
      ],
      "metadata": {
        "colab": {
          "base_uri": "https://localhost:8080/",
          "height": 297
        },
        "id": "3GeFfljAg8hX",
        "outputId": "95838049-0089-400d-dc85-d06f5880d246"
      },
      "execution_count": 14,
      "outputs": [
        {
          "output_type": "stream",
          "name": "stdout",
          "text": [
            "Here's a description of the image:\n",
            "\n",
            "Close-up view of a woman with shoulder-length, curly brown hair. \n",
            "\n",
            "\n",
            "Here's a breakdown of the details:\n",
            "\n",
            "* **The Woman:** She appears to be of South Asian descent, with dark brown eyes and a warm smile. Her expression is friendly and engaging, as she's pointing with her index finger towards something off-camera. She looks directly at the camera.\n",
            "\n",
            "* **Her Clothing:** She's wearing a teal or turquoise three-quarter sleeve kurta (a traditional South Asian tunic). The kurta has a subtle, light gold print of small, repeating floral or paisley-like designs all over it. The neckline is a simple, modest V-neck style, fastened with a small button.\n",
            "\n",
            "* **The Setting:** The background is a plain, bright white, which keeps the focus entirely on the woman.\n",
            "\n",
            "* **Overall Impression:** The image is well-lit, professional, and conveys a feeling of approachability and perhaps showcasing a product or service (given the pointing gesture). The overall style is clean and simple.\n",
            "\n"
          ]
        }
      ]
    },
    {
      "cell_type": "code",
      "source": [],
      "metadata": {
        "id": "VCqWtf3Bh28-"
      },
      "execution_count": null,
      "outputs": []
    }
  ]
}